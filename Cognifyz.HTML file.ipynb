{
  "nbformat": 4,
  "nbformat_minor": 0,
  "metadata": {
    "colab": {
      "private_outputs": true,
      "provenance": []
    },
    "kernelspec": {
      "name": "python3",
      "display_name": "Python 3"
    },
    "language_info": {
      "name": "python"
    }
  },
  "cells": [
    {
      "cell_type": "markdown",
      "source": [
        "\n",
        "\n",
        "1.   DATA OVERVIW\n",
        "\n",
        "\n"
      ],
      "metadata": {
        "id": "ZZzlQxryWoNN"
      }
    },
    {
      "cell_type": "code",
      "execution_count": null,
      "metadata": {
        "id": "7oWw4PggT8mn"
      },
      "outputs": [],
      "source": [
        "import pandas as pd\n",
        "import numpy as np\n",
        "import matplotlib .pyplot as plt\n",
        "import seaborn as sns\n",
        "df = pd.read_csv(\"internsip data.file.csv\")\n",
        "df\n",
        "\n"
      ]
    },
    {
      "cell_type": "code",
      "source": [
        "# last 5 rows\n",
        "df.head(5)"
      ],
      "metadata": {
        "id": "Xwv57aNlX0ts"
      },
      "execution_count": null,
      "outputs": []
    },
    {
      "cell_type": "code",
      "source": [
        "# CHECK DATRTYPE OF EACH COLUMN\n",
        "df.dtypes"
      ],
      "metadata": {
        "id": "MwAsNph6X1IX"
      },
      "execution_count": null,
      "outputs": []
    },
    {
      "cell_type": "code",
      "source": [
        "# TOTALS  ROWS AND COLUMNS IN DATASET\n",
        "df.columns"
      ],
      "metadata": {
        "id": "Jvv2Ie1EY7ug"
      },
      "execution_count": null,
      "outputs": []
    },
    {
      "cell_type": "code",
      "source": [
        "len(df.columns)"
      ],
      "metadata": {
        "id": "GZDNPoyeY8CA"
      },
      "execution_count": null,
      "outputs": []
    },
    {
      "cell_type": "code",
      "source": [
        "len(df)"
      ],
      "metadata": {
        "id": "EkFaJ-5wY8UZ"
      },
      "execution_count": null,
      "outputs": []
    },
    {
      "cell_type": "code",
      "source": [
        "df.info()"
      ],
      "metadata": {
        "id": "O20SAiVVZsl9"
      },
      "execution_count": null,
      "outputs": []
    },
    {
      "cell_type": "code",
      "source": [
        "# CHECK NULL VALUE IN THE DATASET\n",
        "df.isnull().sum()"
      ],
      "metadata": {
        "id": "3JYr55JCX1Mr"
      },
      "execution_count": null,
      "outputs": []
    },
    {
      "cell_type": "code",
      "source": [
        "df[df['CardType'].isna()==1]"
      ],
      "metadata": {
        "id": "N90TCaRyZnsc"
      },
      "execution_count": null,
      "outputs": []
    },
    {
      "cell_type": "markdown",
      "source": [
        "#  DATA CLEANING"
      ],
      "metadata": {
        "id": "iCxdzoI28Rgh"
      }
    },
    {
      "cell_type": "code",
      "source": [
        "# FILL NULL VALUES WITH 0\n",
        "df[\"CardType\"] = df[\"CardType\"].fillna(0)"
      ],
      "metadata": {
        "id": "fFvnnrMaZlJZ"
      },
      "execution_count": null,
      "outputs": []
    },
    {
      "cell_type": "code",
      "source": [
        "df['Gender'] = df['Gender'].fillna(0)"
      ],
      "metadata": {
        "id": "facS7CTrX1UX"
      },
      "execution_count": null,
      "outputs": []
    },
    {
      "cell_type": "code",
      "source": [
        "df[df['Customer_Name'].isna()==1]"
      ],
      "metadata": {
        "id": "WcWfSxsQX1YU"
      },
      "execution_count": null,
      "outputs": []
    },
    {
      "cell_type": "code",
      "source": [
        "df['Customer_Name'] = df['Customer_Name'].fillna(0)"
      ],
      "metadata": {
        "id": "HAlaNvFZX1b3"
      },
      "execution_count": null,
      "outputs": []
    },
    {
      "cell_type": "code",
      "source": [
        "df['Fraud'] = df['Fraud'].fillna(0)"
      ],
      "metadata": {
        "id": "gXKrXeAjgh_c"
      },
      "execution_count": null,
      "outputs": []
    },
    {
      "cell_type": "code",
      "source": [
        "df['AcquisitionSource'] = df['AcquisitionSource'].fillna(0)"
      ],
      "metadata": {
        "id": "Xu0OeVUqgiQu"
      },
      "execution_count": null,
      "outputs": []
    },
    {
      "cell_type": "code",
      "source": [
        "# DROP DUPLICATES\n",
        "df.duplicated()"
      ],
      "metadata": {
        "id": "ESNXEfV0X1pC"
      },
      "execution_count": null,
      "outputs": []
    },
    {
      "cell_type": "code",
      "source": [
        "# DROP DUPLICATES METHOD\n",
        "df = df.drop_duplicates()"
      ],
      "metadata": {
        "id": "bNYYc7eEfWZG"
      },
      "execution_count": null,
      "outputs": []
    },
    {
      "cell_type": "code",
      "source": [
        "df.columns"
      ],
      "metadata": {
        "id": "SMuHUZNHEhRn"
      },
      "execution_count": null,
      "outputs": []
    },
    {
      "cell_type": "code",
      "source": [
        "df.isnull().sum()"
      ],
      "metadata": {
        "id": "DJaqj3pBhl1V"
      },
      "execution_count": null,
      "outputs": []
    },
    {
      "cell_type": "code",
      "source": [
        "import pandas as pd\n",
        "import numpy as np\n",
        "import matplotlib .pyplot as plt\n",
        "import seaborn as sns\n",
        "df = pd.read_csv(\"internsip data.file.csv\")\n",
        "df\n",
        "\n"
      ],
      "metadata": {
        "id": "BMrx5RAhhwAG"
      },
      "execution_count": null,
      "outputs": []
    },
    {
      "cell_type": "code",
      "source": [
        "df.columns"
      ],
      "metadata": {
        "id": "17pr-vmA4g6r"
      },
      "execution_count": null,
      "outputs": []
    },
    {
      "cell_type": "markdown",
      "source": [
        "* Task: Top Cuisines"
      ],
      "metadata": {
        "id": "dMDVkUvIR7RI"
      }
    },
    {
      "cell_type": "markdown",
      "source": [
        "#   TASK- 1. *Determine the top three most ***common*** cuisines in the dataset.\n",
        "\n",
        "\n",
        "\n",
        "\n"
      ],
      "metadata": {
        "id": "fB0ylPLU87pl"
      }
    },
    {
      "cell_type": "code",
      "source": [
        "#Determine the top three most common cuisines in the dataset.\n",
        "top_cuisines = df['Product_Category'].value_counts().head(3)\n",
        "plt.figure(figsize=(6,3))\n",
        "plt.figure(figsize=(6,3))\n",
        "\n",
        "plt.bar(top_cuisines.index, top_cuisines.values)\n",
        "\n",
        "plt.xlabel('Product_cuisines')\n",
        "\n",
        "plt.ylabel('Frequency')\n",
        "\n",
        "plt.title('Top 3 Most Common Product Categories')\n",
        "\n",
        "plt.xticks(rotation=0)\n",
        "\n",
        "plt.tight_layout()\n",
        "\n",
        "plt.show()"
      ],
      "metadata": {
        "id": "fgQBxGyM4hN3"
      },
      "execution_count": null,
      "outputs": []
    },
    {
      "cell_type": "markdown",
      "source": [
        "#   Calculate the percentage of restaurants that serve each of the top cuisines"
      ],
      "metadata": {
        "id": "vBKZTRW584NA"
      }
    },
    {
      "cell_type": "code",
      "source": [
        "#Calculate the percentage of restaurants that serve each of the top cuisines\n",
        "percentage = (top_cuisines/ len(df)) * 100\n",
        "\n",
        "# print the result\n",
        "\n",
        "print(percentage)\n",
        "plt.figure(figsize=(10,6))\n",
        "\n",
        "plt.pie(percentage, labels = top_cuisines.index, autopct='%1.1f%%')\n",
        "\n",
        "plt.title('Top 3 Most Common Product Categories')\n",
        "\n",
        "plt.show()"
      ],
      "metadata": {
        "id": "xzVY4TKG4hUY"
      },
      "execution_count": null,
      "outputs": []
    },
    {
      "cell_type": "markdown",
      "source": [
        "#  Task: City Analysis\n",
        "\n"
      ],
      "metadata": {
        "id": "2QKt5wecW-F3"
      }
    },
    {
      "cell_type": "markdown",
      "source": [
        "#  Identify the city with the highest number of restaurants in the dataset"
      ],
      "metadata": {
        "id": "N7YTzOPG92RC"
      }
    },
    {
      "cell_type": "code",
      "source": [
        "city_restaurants =df['Customer_Name'].value_counts().head(10)\n",
        "\n",
        "# create bar chart\n",
        "\n",
        "plt.figure(figsize=(10,6))\n",
        "\n",
        "plt.bar(city_restaurants.index,city_restaurants.values)\n",
        "\n",
        "plt.xlabel('City')\n",
        "\n",
        "plt.ylabel('Number of Restaurants')\n",
        "\n",
        "plt.title('Top 10 Cities with the Highest Number of Restaurants')\n",
        "\n",
        "plt.xticks(rotation=90)\n",
        "\n",
        "plt.tight_layout()\n",
        "\n",
        "plt.show()"
      ],
      "metadata": {
        "id": "ZK3oyn3A4hkb"
      },
      "execution_count": null,
      "outputs": []
    },
    {
      "cell_type": "markdown",
      "source": [
        "\n",
        "\n",
        "# Identify the city with the highest number of restaurants in the dataset.\n",
        "\n"
      ],
      "metadata": {
        "id": "aTLLCPfS-KLz"
      }
    },
    {
      "cell_type": "code",
      "source": [
        "# Calculate the number of restaurants according to the city\n",
        "\n",
        "city_restaurants = df['Customer_Name'].value_counts().head(10)\n",
        "\n",
        "# create bar chart\n",
        "\n",
        "plt.figure(figsize=(17,6))\n",
        "\n",
        "plt.bar(city_restaurants.index,city_restaurants.values)\n",
        "\n",
        "plt.xlabel('City')\n",
        "\n",
        "plt.ylabel('Number of Restaurants')\n",
        "\n",
        "plt.title('Top 10 Cities with the Highest Number of Restaurants')\n",
        "\n",
        "plt.xticks(rotation=0) # make the labels straight\n",
        "\n",
        "plt.tight_layout()\n",
        "\n",
        "plt.show()\n",
        "\n",
        "# Number of restaurants by city\n",
        "print(city_restaurants)\n"
      ],
      "metadata": {
        "id": "69mzxqyt4iXj"
      },
      "execution_count": null,
      "outputs": []
    },
    {
      "cell_type": "markdown",
      "source": [],
      "metadata": {
        "id": "H4nr6ePk-HKU"
      }
    },
    {
      "cell_type": "markdown",
      "source": [
        "# Calculate the average rating for restaurants in each city."
      ],
      "metadata": {
        "id": "9VNvjSLLUV0_"
      }
    },
    {
      "cell_type": "code",
      "source": [
        "#Convert ProductPrice aur ProductCost columns ko float type mein\n",
        "df['ProductPrice'] = pd.to_numeric(df['ProductPrice'], errors='coerce')\n",
        "df['ProductCost'] = pd.to_numeric(df['ProductCost'], errors='coerce')\n",
        "\n",
        "#Calculate rating\n",
        "df['Rating'] = (df['ProductPrice'] - df['ProductCost']) / df['ProductCost']\n",
        "\n",
        "#Group data by 'Region' and calculate average rating\n",
        "average_rating = df.groupby('Region')['Rating'].mean().reset_index()\n",
        "\n",
        "#Rename columns for clarity\n",
        "average_rating.columns = ['City', 'Average_Rating']\n",
        "\n",
        "#Print the result\n",
        "print(average_rating)"
      ],
      "metadata": {
        "id": "5u8PImpDW-D1"
      },
      "execution_count": null,
      "outputs": []
    },
    {
      "cell_type": "code",
      "source": [],
      "metadata": {
        "id": "mIT6hG1kFOie"
      },
      "execution_count": null,
      "outputs": []
    },
    {
      "cell_type": "markdown",
      "source": [
        "#  Determine the city with the highest average rating."
      ],
      "metadata": {
        "id": "7wKkTZv_-hBc"
      }
    },
    {
      "cell_type": "code",
      "source": [
        "#Convert ProductPrice aur ProductCost columns ko float type mein\n",
        "df['ProductPrice'] = pd.to_numeric(df['ProductPrice'], errors='coerce')\n",
        "df['ProductCost'] = pd.to_numeric(df['ProductCost'], errors='coerce')\n",
        "\n",
        "#Calculate rating\n",
        "df['Rating'] = (df['ProductPrice'] - df['ProductCost']) / df['ProductCost']\n",
        "\n",
        "#Group data by 'Region' and calculate average rating\n",
        "average_rating = df.groupby('Region')['Rating'].mean().reset_index()\n",
        "\n",
        "#Rename columns for clarity\n",
        "average_rating.columns = ['City', 'Average_Rating']\n",
        "\n",
        "#Determine city with highest average rating\n",
        "highest_rating_city = average_rating.loc[average_rating['Average_Rating'].idxmax()]\n",
        "\n",
        "#Print result\n",
        "print(\"City with highest average rating:\")\n",
        "print(highest_rating_city)\n",
        "\n",
        "#Plot bar graph\n",
        "plt.figure(figsize=(10,6))\n",
        "plt.bar(average_rating['City'], average_rating['Average_Rating'])\n",
        "plt.xlabel('City')\n",
        "plt.ylabel('Average Rating')\n",
        "plt.title('Average Rating by City')\n",
        "plt.xticks(rotation=90)\n",
        "plt.show()"
      ],
      "metadata": {
        "id": "RAaPTqt4X_Xn"
      },
      "execution_count": null,
      "outputs": []
    },
    {
      "cell_type": "markdown",
      "source": [
        "#  Task: Price Range Distribution"
      ],
      "metadata": {
        "id": "kpbpGfKM-eXS"
      }
    },
    {
      "cell_type": "code",
      "source": [
        "df.columns"
      ],
      "metadata": {
        "id": "CAyXgnNIEbSI"
      },
      "execution_count": null,
      "outputs": []
    },
    {
      "cell_type": "markdown",
      "source": [
        "#Create a histogram or bar chart to visualize the distribution of price ranges among the restaurants."
      ],
      "metadata": {
        "id": "hpCaMS7DAvjO"
      }
    },
    {
      "cell_type": "code",
      "source": [
        "#Create price range categories\n",
        "bins = [0, 10, 20, 30, 40, 50]\n",
        "labels = ['Low', 'Medium', 'High', 'Very High', 'Extremely High']\n",
        "\n",
        "#Assign price range categories to each restaurant\n",
        "df['PriceRange'] = pd.cut(df['ProductPrice'], bins=bins, labels=labels)\n",
        "\n",
        "#Convert PriceRange column to pandas Series\n",
        "price_range_series = pd.Series(df['PriceRange'])\n",
        "\n",
        "#Calculate percentage of restaurants in each price range category\n",
        "percentage = price_range_series.value_counts(normalize=True) * 100\n",
        "\n",
        "#Create a bar chart\n",
        "plt.figure(figsize=(10,6))\n",
        "plt.bar(percentage.index, percentage.values)\n",
        "plt.xlabel('Price Range')\n",
        "plt.ylabel('Percentage')\n",
        "plt.title('Price Range Distribution')\n",
        "plt.show()\n"
      ],
      "metadata": {
        "id": "ehVfn8b6V4Ma"
      },
      "execution_count": null,
      "outputs": []
    },
    {
      "cell_type": "markdown",
      "source": [
        "#  Calculate the percentage of restaurants in each price range category."
      ],
      "metadata": {
        "id": "-mHi_ZU3FjlU"
      }
    },
    {
      "cell_type": "code",
      "source": [
        "# Define a function to categorize based on price\n",
        "def categorize_price(price):\n",
        "    if price < 10:\n",
        "        return 'Low'\n",
        "    elif 10 <= price < 20:\n",
        "        return 'Medium'\n",
        "    else:\n",
        "        return 'High'\n",
        "\n",
        "# Assuming 'ProductPrice' is the column containing the restaurant's price\n",
        "df['PriceRange'] = df['ProductPrice'].apply(categorize_price)\n",
        "\n",
        "# Now calculate the percentage of restaurants in each price range\n",
        "price_range_counts = df['PriceRange'].value_counts()\n",
        "price_range_percentage = (price_range_counts / len(df)) * 100\n",
        "\n",
        "# Print the result\n",
        "print(\"Percentage of Restaurants in Each Price Range:\")\n",
        "for price_range, percentage in price_range_percentage.items():\n",
        "    print(f\"{price_range}: {percentage:.2f}%\")\n",
        "\n",
        "# Create a pie chart\n",
        "import matplotlib.pyplot as plt\n",
        "plt.figure(figsize=(8,6))\n",
        "plt.pie(price_range_counts, labels=price_range_counts.index, autopct='%1.1f%%', startangle=90)\n",
        "plt.title('Percentage of Restaurants in Each Price Range')\n",
        "plt.show()\n"
      ],
      "metadata": {
        "id": "66C4_t7MFW_j"
      },
      "execution_count": null,
      "outputs": []
    },
    {
      "cell_type": "markdown",
      "source": [
        "## Task: Online Delivery"
      ],
      "metadata": {
        "id": "LEccosEeBAmi"
      }
    },
    {
      "cell_type": "code",
      "source": [
        "df.columns"
      ],
      "metadata": {
        "id": "uvjdb0SAEWNi"
      },
      "execution_count": null,
      "outputs": []
    },
    {
      "cell_type": "markdown",
      "source": [
        "# Determine the percentage of restaurants that offer online delivery."
      ],
      "metadata": {
        "id": "gLudc4OwBe1o"
      }
    },
    {
      "cell_type": "code",
      "source": [
        "# Create a new column 'OnlineDelivery' based on the 'AcquisitionSource' column\n",
        "df['OnlineDelivery'] = df['AcquisitionSource'].apply(lambda x: 1 if x == 'Online' else 0)\n",
        "\n",
        "# Calculate the percentage of restaurants that offer online delivery\n",
        "online_delivery_percentage = df['OnlineDelivery'].mean() * 100\n",
        "\n",
        "# Print the result\n",
        "print(f\"The percentage of restaurants that offer online delivery is: {online_delivery_percentage:.2f}%\")\n",
        "\n",
        "# Optional: Create a pie chart to visualize the percentage of restaurants offering online delivery\n",
        "import matplotlib.pyplot as plt\n",
        "\n",
        "plt.figure(figsize=(8,6))\n",
        "plt.pie([df['OnlineDelivery'].sum(), len(df) - df['OnlineDelivery'].sum()],\n",
        "        labels=['Online Delivery', 'No Online Delivery'], autopct='%1.1f%%')\n",
        "plt.title('Percentage of Restaurants that Offer Online Delivery')\n",
        "plt.show()\n"
      ],
      "metadata": {
        "id": "FYGoHQ76GFi7"
      },
      "execution_count": null,
      "outputs": []
    },
    {
      "cell_type": "markdown",
      "source": [
        "# Identify the most common combinations of cuisines in the dataset"
      ],
      "metadata": {
        "id": "4QpLoId-DixV"
      }
    },
    {
      "cell_type": "code",
      "source": [
        "##Identify the most common combinations of cuisines in the dataset\n",
        "import pandas as pd\n",
        "import matplotlib.pyplot as plt\n",
        "import seaborn as sns\n",
        "df = pd.read_csv(\"internsip data.file.csv\")\n",
        "df\n",
        "\n",
        "# Load your dataset (example: df = pd.read_csv('your_data.csv'))\n",
        "# For demonstration, let's assume df is already defined.\n",
        "\n",
        "# Step 1: Identify the most common combinations of cuisines in ProductCategory\n",
        "# First, let's check how many unique product categories exist.\n",
        "product_category_counts = df['Product_Category'].value_counts()\n",
        "\n",
        "# Step 2: Get the top 10 most common product categories (assuming these represent cuisines)\n",
        "top_product_categories = product_category_counts.head(10)\n",
        "\n",
        "# Step 3: Create a bar chart to visualize the most common product categories\n",
        "plt.figure(figsize=(10, 6))\n",
        "sns.barplot(x=top_product_categories.index, y=top_product_categories.values, palette='viridis')\n",
        "\n",
        "plt.title(\"Top 10 Most Common Product Categories (Cuisines)\", fontsize=16)\n",
        "plt.xlabel(\"Product Category (Cuisine)\", fontsize=12)\n",
        "plt.ylabel(\"Frequency\", fontsize=12)\n",
        "plt.xticks(rotation=45, ha='right')\n",
        "plt.tight_layout()\n",
        "\n",
        "# Show the plot\n",
        "plt.show()\n"
      ],
      "metadata": {
        "id": "5YeJcBNx9kTC"
      },
      "execution_count": null,
      "outputs": []
    },
    {
      "cell_type": "markdown",
      "source": [
        "#  Plot the locations of restaurants on a map using longitude and latitude coordinates."
      ],
      "metadata": {
        "id": "HiZGcGh7DPwN"
      }
    },
    {
      "cell_type": "markdown",
      "source": [],
      "metadata": {
        "id": "PFqjb8_TCghi"
      }
    },
    {
      "cell_type": "code",
      "source": [
        "import pandas as pd\n",
        "import folium\n",
        "\n",
        "# Sample DataFrame with restaurant locations (longitude and latitude)\n",
        "# Assuming the DataFrame looks something like this:\n",
        "\n",
        "data = {\n",
        "    'Restaurant_Name': ['Restaurant A', 'Restaurant B', 'Restaurant C'],\n",
        "    'Longitude': [-73.935242, -73.925242, -73.945242],\n",
        "    'Latitude': [40.730610, 40.720610, 40.740610]\n",
        "}\n",
        "\n",
        "df = pd.DataFrame(data)\n",
        "\n",
        "# Step 1: Create a base map centered around a specific latitude and longitude (e.g., New York City)\n",
        "map_center = [40.730610, -73.935242]  # Latitude and Longitude of New York City\n",
        "mymap = folium.Map(location=map_center, zoom_start=12)\n",
        "\n",
        "# Step 2: Add markers for each restaurant\n",
        "for _, row in df.iterrows():\n",
        "    folium.Marker(location=[row['Latitude'], row['Longitude']], popup=row['Restaurant_Name']).add_to(mymap)\n",
        "\n",
        "# Step 3: Save the map to an HTML file\n",
        "mymap.save('restaurants_map.html')\n",
        "\n",
        "# Step 4: Display the map (in a Jupyter notebook environment, you can display it inline)\n",
        "mymap\n"
      ],
      "metadata": {
        "id": "Y_o8R5-oChQJ"
      },
      "execution_count": null,
      "outputs": []
    },
    {
      "cell_type": "markdown",
      "source": [],
      "metadata": {
        "id": "unONEi5yBfjX"
      }
    },
    {
      "cell_type": "code",
      "source": [
        "df.columns"
      ],
      "metadata": {
        "id": "LTQ1B9Hvj2Wi"
      },
      "execution_count": null,
      "outputs": []
    },
    {
      "cell_type": "code",
      "source": [],
      "metadata": {
        "id": "NJFsFL29j2cw"
      },
      "execution_count": null,
      "outputs": []
    },
    {
      "cell_type": "markdown",
      "source": [
        "## Plot the locations of restaurants on a map using longitude and latitude coordinates."
      ],
      "metadata": {
        "id": "WorbWzYpDgMt"
      }
    },
    {
      "cell_type": "code",
      "source": [
        "# Convert 'ProductPrice' to numeric, forcing errors to NaN (useful in case there are invalid values like text)\n",
        "df['ProductPrice'] = pd.to_numeric(df['ProductPrice'], errors='coerce')\n"
      ],
      "metadata": {
        "id": "0nWepcq_j2it"
      },
      "execution_count": null,
      "outputs": []
    },
    {
      "cell_type": "code",
      "source": [
        "import pandas as pd\n",
        "import matplotlib.pyplot as plt\n",
        "import seaborn as sns\n",
        "\n",
        "# Load the dataset\n",
        "df = pd.read_csv(\"internsip data.file.csv\")\n",
        "df\n",
        "\n",
        "# Step 1: Convert 'ProductPrice' to numeric (in case it's not already)\n",
        "df['ProductPrice'] = pd.to_numeric(df['ProductPrice'], errors='coerce')\n",
        "\n",
        "# Step 2: Create a sample rating or price column. Here, we use 'ProductPrice' as a proxy for ratings.\n",
        "# Combine cuisines per order: Assuming 'Product_Category' represents cuisines.\n",
        "order_cuisines = df.groupby('OrderID')['Product_Category'].apply(lambda x: ', '.join(x.unique())).reset_index()\n",
        "\n",
        "# Step 3: Merge back the 'ProductPrice' to the cuisines\n",
        "# This assumes 'ProductPrice' is in the original DataFrame, and we are summarizing it by 'OrderID'.\n",
        "order_cuisines = order_cuisines.merge(df[['OrderID', 'ProductPrice']].drop_duplicates(), on='OrderID', how='left')\n",
        "\n",
        "# Step 4: Find the average price for each cuisine combination\n",
        "cuisine_ratings = order_cuisines.groupby('Product_Category').agg({'ProductPrice': 'mean'}).reset_index()\n",
        "\n",
        "# Step 5: Sort and visualize the results\n",
        "# Sort by mean price\n",
        "cuisine_ratings_sorted = cuisine_ratings.sort_values(by='ProductPrice', ascending=False)\n",
        "\n",
        "# Plotting the results\n",
        "plt.figure(figsize=(12, 8))\n",
        "sns.barplot(x='ProductPrice', y='Product_Category', data=cuisine_ratings_sorted, palette='viridis')\n",
        "\n",
        "plt.title(\"Average Price (Rating Proxy) by Cuisine Combination\", fontsize=16)\n",
        "plt.xlabel(\"Average Price (Rating)\", fontsize=12)\n",
        "plt.ylabel(\"Cuisine Combination\", fontsize=12)\n",
        "plt.tight_layout()\n",
        "\n",
        "# Show the plot\n",
        "plt.show()\n"
      ],
      "metadata": {
        "id": "L8RPltLnj2nU"
      },
      "execution_count": null,
      "outputs": []
    },
    {
      "cell_type": "markdown",
      "source": [
        "#  Identify any patterns or clusters of restaurants in specific areas."
      ],
      "metadata": {
        "id": "kuJJIiW6DXDx"
      }
    },
    {
      "cell_type": "code",
      "source": [
        "\n",
        "##Identify any patterns or clusters of restaurants in specific areas.\n",
        "\n",
        "import pandas as pd\n",
        "import matplotlib.pyplot as plt\n",
        "import seaborn as sns\n",
        "from sklearn.cluster import KMeans\n",
        "\n",
        "\n",
        "\n",
        "# Step 1: Load dataset (with low_memory=False to avoid dtype warnings)\n",
        "df = pd.read_csv(\"internsip data.file.csv\", low_memory=False)\n",
        "\n",
        "# Step 2: Check for mixed data types in the columns\n",
        "# Check the data types of columns\n",
        "print(df.dtypes)\n",
        "\n",
        "# Check for non-numeric values in 'ProductPrice' and 'OrderQuantity' columns\n",
        "print(df['ProductPrice'].unique())\n",
        "print(df['OrderQuantity'].unique())\n",
        "\n",
        "# Step 3: Convert 'ProductPrice' and 'OrderQuantity' to numeric, forcing errors to NaN\n",
        "df['ProductPrice'] = pd.to_numeric(df['ProductPrice'], errors='coerce')\n",
        "df['OrderQuantity'] = pd.to_numeric(df['OrderQuantity'], errors='coerce')\n",
        "\n",
        "# Step 4: Handle missing values (NaN)\n",
        "# Option 1: Drop rows with NaN values\n",
        "df_cleaned = df.dropna(subset=['ProductPrice', 'OrderQuantity'])\n",
        "\n",
        "# OR\n",
        "\n",
        "# Option 2: Fill NaN values with 0 or any other default value\n",
        "# df['ProductPrice'].fillna(0, inplace=True)\n",
        "# df['OrderQuantity'].fillna(0, inplace=True)\n",
        "\n",
        "# Step 5: Group by 'Region' and 'Country' and aggregate order quantities and product prices\n",
        "region_country_data = df_cleaned.groupby(['Region', 'Country']).agg({\n",
        "    'OrderQuantity': 'sum',  # Total order quantity per region/country\n",
        "    'ProductPrice': 'mean'   # Average product price per region/country\n",
        "}).reset_index()\n",
        "\n",
        "# Step 6: Visualize Total Order Quantity by Region and Country\n",
        "plt.figure(figsize=(6, 5))\n",
        "sns.barplot(x='OrderQuantity', y='Region', data=region_country_data, hue='Country', palette='viridis')\n",
        "\n",
        "plt.title(\"Total Order Quantity by Region and Country\", fontsize=16)\n",
        "plt.xlabel(\"Total Order Quantity\", fontsize=12)\n",
        "plt.ylabel(\"Region\", fontsize=6)\n",
        "plt.tight_layout()\n",
        "plt.show()\n",
        "\n",
        "# Step 7: Visualize Average Product Price by Region and Country\n",
        "plt.figure(figsize=(6, 5))\n",
        "sns.barplot(x='ProductPrice', y='Region', data=region_country_data, hue='Country', palette='viridis')\n",
        "\n",
        "plt.title(\"Average Product Price by Region and Country\", fontsize=10)\n",
        "plt.xlabel(\"Average Product Price\", fontsize=12)\n",
        "plt.ylabel(\"Region\", fontsize=6)\n",
        "plt.tight_layout()\n",
        "plt.show()\n",
        "\n",
        "# Step 8: Apply K-means clustering to the aggregated data (OrderQuantity and ProductPrice)\n",
        "kmeans = KMeans(n_clusters=3, random_state=42)\n",
        "region_country_data['Cluster'] = kmeans.fit_predict(region_country_data[['OrderQuantity', 'ProductPrice']])\n",
        "\n",
        "# Visualize the clusters\n",
        "plt.figure(figsize=(10, 6))\n",
        "sns.scatterplot(x='OrderQuantity', y='ProductPrice', hue='Cluster', data=region_country_data, palette='viridis', s=100, edgecolor='black')\n",
        "\n",
        "plt.title(\"Clustering of Regions and Countries Based on Order Quantity and Product Price\", fontsize=16)\n",
        "plt.xlabel(\"Total Order Quantity\", fontsize=6)\n",
        "plt.ylabel(\"Average Product Price\", fontsize=6)\n",
        "plt.tight_layout()\n",
        "plt.show()\n"
      ],
      "metadata": {
        "id": "1avudnhzwK6S"
      },
      "execution_count": null,
      "outputs": []
    },
    {
      "cell_type": "markdown",
      "source": [
        "#  Identify if there are any restaurant chains present in the dataset."
      ],
      "metadata": {
        "id": "HN8nq-svCojH"
      }
    },
    {
      "cell_type": "code",
      "source": [
        "#Identify if there are any restaurant chains present in the dataset.\n",
        "\n",
        "import pandas as pd\n",
        "import matplotlib.pyplot as plt\n",
        "import seaborn as sns\n",
        "\n",
        "# Step 1: Load the dataset with reduced memory usage\n",
        "df = pd.read_csv(\"internsip data.file.csv\", low_memory=False)\n",
        "df\n",
        "\n",
        "# Step 2: Reduce the dataset size by removing unnecessary columns (keep the most relevant ones)\n",
        "df_reduced = df[['OrderID', 'Region', 'Country', 'Customer_Name', 'ProductSKU']]\n",
        "\n",
        "# Step 3: Identify duplicated customers by counting occurrences of `Customer_Name`\n",
        "customer_counts = df_reduced['Customer_Name'].value_counts()\n",
        "\n",
        "# Step 4: Filter for customers with multiple orders (possible chains)\n",
        "chain_candidates = customer_counts[customer_counts > 1].head(20)  # Limit to top 20 customers\n",
        "\n",
        "# Step 5: Visualize the customers with multiple orders\n",
        "plt.figure(figsize=(10, 6))\n",
        "sns.barplot(x=chain_candidates.index, y=chain_candidates.values, palette='viridis')\n",
        "plt.title(\"Customers with Multiple Orders (Possible Restaurant Chains)\", fontsize=14)\n",
        "plt.xlabel(\"Customer Name\", fontsize=12)\n",
        "plt.ylabel(\"Number of Orders\", fontsize=12)\n",
        "plt.xticks(rotation=90)\n",
        "plt.tight_layout()\n",
        "plt.show()\n",
        "\n",
        "# Step 6: Analyze `ProductSKU` across different regions and countries\n",
        "# Group by ProductSKU, Region, and Country and limit to top 20 ProductSKUs that appear across multiple regions\n",
        "sku_region_counts = df_reduced.groupby(['ProductSKU', 'Region', 'Country']).size().reset_index(name='Count')\n",
        "\n",
        "# Filter for ProductSKUs that appear in more than 1 region/country\n",
        "sku_region_clusters = sku_region_counts[sku_region_counts['Count'] > 1].head(20)\n",
        "\n",
        "# Step 7: Visualize the most frequent ProductSKU across regions/countries\n",
        "plt.figure(figsize=(10, 6))\n",
        "sns.countplot(data=sku_region_clusters, x='ProductSKU', palette='viridis')\n",
        "plt.title(\"ProductSKU Across Regions/Countries (Possible Restaurant Chains)\", fontsize=14)\n",
        "plt.xlabel(\"ProductSKU\", fontsize=12)\n",
        "plt.ylabel(\"Frequency Across Regions/Countries\", fontsize=12)\n",
        "plt.xticks(rotation=90)\n",
        "plt.tight_layout()\n",
        "plt.show()\n",
        "\n",
        "# Step 8: Identify customers with orders in multiple regions (possible chains)\n",
        "customer_region_counts = df_reduced.groupby(['Customer_Name', 'Region']).size().reset_index(name='OrderCount')\n",
        "\n",
        "# Filter customers with orders in more than 1 region\n",
        "multi_region_customers = customer_region_counts[customer_region_counts['OrderCount'] > 1].head(20)\n",
        "\n",
        "# Step 9: Visualize the customers with orders in multiple regions\n",
        "plt.figure(figsize=(10, 6))\n",
        "sns.countplot(data=multi_region_customers, x='Customer_Name', palette='viridis')\n",
        "plt.title(\"Customers with Orders in Multiple Regions (Possible Restaurant Chains)\", fontsize=14)\n",
        "plt.xlabel(\"Customer Name\", fontsize=12)\n",
        "plt.ylabel(\"Number of Regions Ordered From\", fontsize=12)\n",
        "plt.xticks(rotation=90)\n",
        "plt.tight_layout()\n",
        "plt.show()\n",
        "\n",
        "# Step 10: Print summary of multi-region customers\n",
        "print(\"Customers with multiple orders across regions (possible chains):\")\n",
        "print(multi_region_customers)\n"
      ],
      "metadata": {
        "id": "4Q1FUN5cLfMT"
      },
      "execution_count": null,
      "outputs": []
    },
    {
      "cell_type": "markdown",
      "source": [],
      "metadata": {
        "id": "m8YWvhxrNIHS"
      }
    },
    {
      "cell_type": "code",
      "source": [
        "df.columns"
      ],
      "metadata": {
        "id": "BubkBtUwQRwJ"
      },
      "execution_count": null,
      "outputs": []
    },
    {
      "cell_type": "markdown",
      "source": [
        "# Analyze the ratings and popularity of different restaurant chains."
      ],
      "metadata": {
        "id": "HHduUiVpCKci"
      }
    },
    {
      "cell_type": "code",
      "source": [
        "##Analyze the ratings and popularity of different restaurant chains\n",
        "\n",
        "import pandas as pd\n",
        "import matplotlib.pyplot as plt\n",
        "import seaborn as sns\n",
        "\n",
        "# Step 1: Load necessary columns\n",
        "df = pd.read_csv(\"internsip data.file.csv\", usecols=['OrderID', 'Customer_Name', 'ProductPrice', 'Product_Category'])\n",
        "\n",
        "# Step 2: Clean Customer Names (restaurant chain names)\n",
        "df['Customer_Name'] = df['Customer_Name'].str.strip().str.lower()\n",
        "\n",
        "# Step 3: Convert ProductPrice to numeric, handle errors by converting invalid data to NaN\n",
        "df['ProductPrice'] = pd.to_numeric(df['ProductPrice'], errors='coerce')\n",
        "\n",
        "# Step 4: Remove rows with missing values in critical columns\n",
        "df_cleaned = df.dropna(subset=['ProductPrice', 'Customer_Name'])\n",
        "\n",
        "# Step 5: Identify unique customer names (restaurant chains) for insights\n",
        "unique_names = df_cleaned['Customer_Name'].unique()  # Check first few unique customer names\n",
        "print(f\"Sample of unique restaurant chain names:\\n{unique_names[:20]}\")\n",
        "\n",
        "# Step 6: Calculate popularity (total orders) and average rating (ProductPrice) per restaurant chain\n",
        "chain_popularity = df_cleaned.pivot_table(\n",
        "    index='Customer_Name',\n",
        "    values=['OrderID', 'ProductPrice'],\n",
        "    aggfunc={'OrderID': 'count', 'ProductPrice': 'mean'}\n",
        ").reset_index()\n",
        "\n",
        "# Step 7: Rename the columns for clarity\n",
        "chain_popularity.columns = ['Customer_Name', 'total_orders', 'average_rating']\n",
        "\n",
        "# Step 8: Sort by total_orders (popularity)\n",
        "chain_popularity_sorted = chain_popularity.sort_values(by='total_orders', ascending=False)\n",
        "\n",
        "# Step 9: Pie chart of popularity by restaurant chain (showing proportions of total orders)\n",
        "plt.figure(figsize=(10, 6))\n",
        "top_chains = chain_popularity_sorted.head(10)  # Show top 10 chains for better readability\n",
        "plt.pie(top_chains['total_orders'], labels=top_chains['Customer_Name'], autopct='%1.1f%%', startangle=140, colors=sns.color_palette(\"viridis\", len(top_chains)))\n",
        "plt.title(\"Top 10 Restaurant Chains by Popularity (Total Orders)\", fontsize=16)\n",
        "plt.axis('equal')  # Equal aspect ratio ensures that pie is drawn as a circle.\n",
        "plt.show()\n",
        "\n",
        "# Step 10: Box plot of ratings (ProductPrice) across restaurant chains\n",
        "plt.figure(figsize=(12, 8))\n",
        "sns.boxplot(x='Customer_Name', y='ProductPrice', data=df_cleaned, order=chain_popularity_sorted['Customer_Name'][:10], palette='coolwarm')\n",
        "plt.xticks(rotation=45, ha='right')  # Rotate x labels for better readability\n",
        "plt.title(\"Distribution of Ratings (ProductPrice) Across Restaurant Chains\", fontsize=16)\n",
        "plt.xlabel(\"Restaurant Chains\", fontsize=12)\n",
        "plt.ylabel(\"Product Price (Rating)\", fontsize=12)\n",
        "plt.tight_layout()\n",
        "plt.show()\n",
        "\n",
        "# Step 11: Display the top 10 restaurant chains by popularity and rating\n",
        "print(\"Top 10 Restaurant Chains by Popularity and Rating:\")\n",
        "print(chain_popularity_sorted.head(10))\n"
      ],
      "metadata": {
        "id": "53fBS7NBR_YI"
      },
      "execution_count": null,
      "outputs": []
    }
  ]
}